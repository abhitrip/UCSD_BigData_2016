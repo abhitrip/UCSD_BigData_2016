{
 "cells": [
  {
   "cell_type": "markdown",
   "metadata": {},
   "source": [
    "# Homework 2\n",
    "\n",
    "In this homework, we are going to play with Twitter data.\n",
    "\n",
    "The data is represented as rows of of [JSON](https://en.wikipedia.org/wiki/JSON#Example) strings.\n",
    "It consists of [tweets](https://dev.twitter.com/overview/api/tweets), [messages](https://dev.twitter.com/streaming/overview/messages-types), and a small amount of broken data (cannot be parsed as JSON).\n",
    "\n",
    "For this homework, we will only focus on tweets and ignore all other messages.\n",
    "\n",
    "# UPDATES\n",
    "\n",
    "## Announcement\n",
    "\n",
    "**We changed the test files size and the corresponding file paths.**\n",
    "\n",
    "In order to avoid long waiting queue, we decided to limit the input files size for the Playground submissions. Please read the following files to get the input file paths:\n",
    "    * 1GB test: `../Data/hw2-files-1gb.txt`\n",
    "    * 5GB test: `../Data/hw2-files-5gb.txt`\n",
    "    * 20GB test: `../Data/hw2-files-20gb.txt`\n",
    "\n",
    "**We updated the json parsing section of this notebook.**\n",
    "\n",
    "Python built-in json library is too slow. In our experiment, 70% of the total running time is spent on parsing tweets. Therefore we recommend using [ujson](https://pypi.python.org/pypi/ujson) instead of json. It is at least 15x faster than the built-in json library according to our tests.\n",
    "\n",
    "\n",
    "## Important Reminders\n",
    "\n",
    "1. The tokenizer in this notebook contains UTF-8 characters. So the first line of your `.py` source code must be `# -*- coding: utf-8 -*-` to define its encoding. Learn more about this topic [here](https://www.python.org/dev/peps/pep-0263/).\n",
    "2. The input files (the tweets) contain UTF-8 characters. So you have to correctly encode your input with some function like `lambda text: text.encode('utf-8')`.\n",
    "3. `../Data/hw2-files-<param>` may contain multiple lines, one line for one input file. You can use a single textFile call to read multiple files: `sc.textFile(','.join(files))`.\n",
    "4. The input file paths in `../Data/hw2-files-<param>` contains trailing spaces (newline etc.), which may confuse HDFS if not removed. \n",
    "5. Your program will be killed if it cannot finish in 5 minutes. The running time of last 100 submissions (yours and others) can be checked at the \"View last 100 jobs\" tab. For your information, here is the running time of our solution:\n",
    "   * 1GB test:  53 seconds,\n",
    "   * 5GB test:  60 seconds,\n",
    "   * 20GB test: 114 seconds.\n",
    "\n",
    "\n",
    "\n",
    "\n",
    "\n",
    "## Tweets\n",
    "\n",
    "A tweet consists of many data fields. [Here is an example](https://gist.github.com/arapat/03d02c9b327e6ff3f6c3c5c602eeaf8b). You can learn all about them in the Twitter API doc. We are going to briefly introduce only the data fields that will be used in this homework.\n",
    "\n",
    "* `created_at`: Posted time of this tweet (time zone is included)\n",
    "* `id_str`: Tweet ID - we recommend using `id_str` over using `id` as Tweet IDs, becauase `id` is an integer and may bring some overflow problems.\n",
    "* `text`: Tweet content\n",
    "* `user`: A JSON object for information about the author of the tweet\n",
    "    * `id_str`: User ID\n",
    "    * `name`: User name (may contain spaces)\n",
    "    * `screen_name`: User screen name (no spaces)\n",
    "* `retweeted_status`: A JSON object for information about the retweeted tweet (i.e. this tweet is not original but retweeteed some other tweet)\n",
    "    * All data fields of a tweet except `retweeted_status`\n",
    "* `entities`: A JSON object for all entities in this tweet\n",
    "    * `hashtags`: An array for all the hashtags that are mentioned in this tweet\n",
    "    * `urls`: An array for all the URLs that are mentioned in this tweet\n",
    "\n",
    "\n",
    "## Data source\n",
    "\n",
    "All tweets are collected using the [Twitter Streaming API](https://dev.twitter.com/streaming/overview).\n",
    "\n",
    "\n",
    "## Users partition\n",
    "\n",
    "Besides the original tweets, we will provide you with a Pickle file, which contains a partition over 452,743 Twitter users. It contains a Python dictionary `{user_id: partition_id}`. The users are partitioned into 7 groups."
   ]
  },
  {
   "cell_type": "markdown",
   "metadata": {},
   "source": [
    "# Part 0: Load data to a RDD"
   ]
  },
  {
   "cell_type": "markdown",
   "metadata": {},
   "source": [
    "The tweets data is stored on AWS S3. We have in total a little over 1 TB of tweets. We provide 10 MB of tweets for your local development. For the testing and grading on the homework server, we will use different data.\n",
    "\n",
    "## Testing on the homework server\n",
    "In the Playground, we provide three different input sizes to test your program: 1 GB, 10 GB, and 100 GB. To test them, read files list from `../Data/hw2-files-1gb.txt`, `../Data/hw2-files-5gb.txt`, `../Data/hw2-files-20gb.txt`, respectively.\n",
    "\n",
    "For final submission, make sure to read files list from `../Data/hw2-files-final.txt`. Otherwise your program will receive no points.\n",
    "\n",
    "## Local test\n",
    "\n",
    "For local testing, read files list from `../Data/hw2-files.txt`.\n",
    "Now let's see how many lines there are in the input files.\n",
    "\n",
    "1. Make RDD from the list of files in `hw2-files.txt`.\n",
    "2. Mark the RDD to be cached (so in next operation data will be loaded in memory) \n",
    "3. call the `print_count` method to print number of lines in all these files\n",
    "\n",
    "It should print\n",
    "```\n",
    "Number of elements: 2193\n",
    "```"
   ]
  },
  {
   "cell_type": "code",
   "execution_count": 3,
   "metadata": {
    "collapsed": true
   },
   "outputs": [],
   "source": [
    "def print_count(rdd):\n",
    "    print 'Number of elements:', rdd.count()"
   ]
  },
  {
   "cell_type": "code",
   "execution_count": 4,
   "metadata": {
    "collapsed": false
   },
   "outputs": [
    {
     "name": "stdout",
     "output_type": "stream",
     "text": [
      "Number of elements: 2193\n"
     ]
    }
   ],
   "source": [
    "# Your code here\n",
    "import os\n",
    "with open('../Data/hw2-files.txt') as f:\n",
    "    files = [l.strip() for l in f.readlines()]\n",
    "text_rdd = sc.textFile(','.join(files)).cache()\n",
    "print_count(text_rdd)\n",
    "\n"
   ]
  },
  {
   "cell_type": "markdown",
   "metadata": {},
   "source": [
    "# Part 1: Parse JSON strings to JSON objects"
   ]
  },
  {
   "cell_type": "markdown",
   "metadata": {},
   "source": [
    "Python has built-in support for JSON.\n",
    "\n",
    "**UPDATE:** Python built-in json library is too slow. In our experiment, 70% of the total running time is spent on parsing tweets. Therefore we recommend using [ujson](https://pypi.python.org/pypi/ujson) instead of json. It is at least 15x faster than the built-in json library according to our tests."
   ]
  },
  {
   "cell_type": "code",
   "execution_count": 5,
   "metadata": {
    "collapsed": false
   },
   "outputs": [
    {
     "data": {
      "text/plain": [
       "False"
      ]
     },
     "execution_count": 5,
     "metadata": {},
     "output_type": "execute_result"
    }
   ],
   "source": [
    "import ujson\n",
    "\n",
    "json_example = '''\n",
    "{\n",
    "    \"id\": 1,\n",
    "    \"name\": \"A green door\",\n",
    "    \"price\": 12.50,\n",
    "    \"tags\": [\"home\", \"green\"]\n",
    "}\n",
    "'''\n",
    "\n",
    "json_obj = ujson.loads(json_example)\n",
    "json_obj\n",
    "'id_str' in json_obj"
   ]
  },
  {
   "cell_type": "markdown",
   "metadata": {},
   "source": [
    "# Broken tweets and irrelevant messages\n",
    "\n",
    "The data of this assignment may contain broken tweets (invalid JSON strings). So make sure that your code is robust for such cases.\n",
    "\n",
    "In addition, some lines in the input file might not be tweets, but messages that the Twitter server sent to the developer (such as [limit notices](https://dev.twitter.com/streaming/overview/messages-types#limit_notices)). Your program should also ignore these messages.\n",
    "\n",
    "*Hint:* [Catch the ValueError](http://stackoverflow.com/questions/11294535/verify-if-a-string-is-json-in-python)\n",
    "\n",
    "\n",
    "(1) Parse raw JSON tweets to obtain valid JSON objects. From all valid tweets, construct a pair RDD of `(user_id, text)`, where `user_id` is the `id_str` data field of the `user` dictionary (read [Tweets](#Tweets) section above), `text` is the `text` data field."
   ]
  },
  {
   "cell_type": "code",
   "execution_count": 6,
   "metadata": {
    "collapsed": false
   },
   "outputs": [],
   "source": [
    "import ujson\n",
    "\n",
    "def safe_parse(raw_json):\n",
    "    # your code here\n",
    "    #pass\n",
    "    \n",
    "    try:\n",
    "        json_object = ujson.loads(raw_json)\n",
    "        if 'limit' in json_object:\n",
    "            return False\n",
    "        if 'text' not in json_object:\n",
    "            return False\n",
    "        if 'user' not in json_object:\n",
    "            return False\n",
    "        else :\n",
    "            if 'id_str' not in json_object['user']:\n",
    "                return False\n",
    "    except ValueError, e:\n",
    "        return False\n",
    "    return True\n",
    "    #return ((not is_limit) and is_user and is_text and is_id_str)\n"
   ]
  },
  {
   "cell_type": "markdown",
   "metadata": {},
   "source": [
    "(2) Count the number of different users in all valid tweets (hint: [the `distinct()` method](https://spark.apache.org/docs/latest/programming-guide.html#transformations)).\n",
    "\n",
    "It should print\n",
    "```\n",
    "The number of unique users is: 2083\n",
    "```"
   ]
  },
  {
   "cell_type": "code",
   "execution_count": 7,
   "metadata": {
    "collapsed": false
   },
   "outputs": [],
   "source": [
    "# your code here\n",
    "new_data = text_rdd.filter(lambda x: safe_parse(x)==True) \\\n",
    "        .map(lambda x: (ujson.loads(x)))  \\\n",
    "        .map(lambda x: (x['user']['id_str'],x['text'])) "
   ]
  },
  {
   "cell_type": "code",
   "execution_count": 8,
   "metadata": {
    "collapsed": true
   },
   "outputs": [],
   "source": [
    "def print_users_count(count):\n",
    "    print 'The number of unique users is:', count"
   ]
  },
  {
   "cell_type": "code",
   "execution_count": 9,
   "metadata": {
    "collapsed": false
   },
   "outputs": [
    {
     "name": "stdout",
     "output_type": "stream",
     "text": [
      "The number of unique users is: 2083\n"
     ]
    }
   ],
   "source": [
    "users = new_data.map(lambda x: (x[0],1))\n",
    "print_users_count(users.distinct().count())"
   ]
  },
  {
   "cell_type": "markdown",
   "metadata": {},
   "source": [
    "# Part 2: Number of posts from each user partition"
   ]
  },
  {
   "cell_type": "markdown",
   "metadata": {},
   "source": [
    "Load the Pickle file `../Data/users-partition.pickle`, you will get a dictionary which represents a partition over 452,743 Twitter users, `{user_id: partition_id}`. The users are partitioned into 7 groups. For example, if the dictionary is loaded into a variable named `partition`, the partition ID of the user `59458445` is `partition[\"59458445\"]`. These users are partitioned into 7 groups. The partition ID is an integer between 0-6.\n",
    "\n",
    "Note that the user partition we provide doesn't cover all users appear in the input data."
   ]
  },
  {
   "cell_type": "markdown",
   "metadata": {},
   "source": [
    "(1) Load the pickle file."
   ]
  },
  {
   "cell_type": "code",
   "execution_count": 10,
   "metadata": {
    "collapsed": false
   },
   "outputs": [],
   "source": [
    "# your code here\n",
    "import pickle\n",
    "partition  = (pickle.load(open('../Data/users-partition.pickle','r')))\n",
    "par_rdd = sc.parallelize(partition.items())#.map(lambda x :(x[1],x[0]))\n"
   ]
  },
  {
   "cell_type": "markdown",
   "metadata": {},
   "source": [
    "(2) Count the number of posts from each user partition\n",
    "\n",
    "Count the number of posts from group 0, 1, ..., 6, plus the number of posts from users who are not in any partition. Assign users who are not in any partition to the group 7.\n",
    "\n",
    "Put the results of this step into a pair RDD `(group_id, count)` that is sorted by key."
   ]
  },
  {
   "cell_type": "code",
   "execution_count": 11,
   "metadata": {
    "collapsed": false
   },
   "outputs": [
    {
     "name": "stdout",
     "output_type": "stream",
     "text": [
      "CPU times: user 2.4 s, sys: 36 ms, total: 2.44 s\n",
      "Wall time: 3.25 s\n"
     ]
    }
   ],
   "source": [
    "%%time\n",
    "# your code here\n",
    "\n",
    "def isPresent(user_grp_id):\n",
    "    \n",
    "    user_id = user_grp_id[0]\n",
    "    if user_id in partition:\n",
    "        gid = partition[user_id]\n",
    "    else:\n",
    "        gid = 7\n",
    "    return(user_id,gid)\n",
    "\n",
    "gid_users = new_data.map(isPresent) \n",
    "grp_users_rdd = gid_users.map(lambda (x,y):(y,1))\\\n",
    "                       .reduceByKey(lambda x,y :x+y)\\\n",
    "                        .sortByKey()\n",
    "\n",
    "\n"
   ]
  },
  {
   "cell_type": "code",
   "execution_count": 12,
   "metadata": {
    "collapsed": false
   },
   "outputs": [
    {
     "data": {
      "text/plain": [
       "[(0, 81), (1, 199), (2, 45), (3, 313), (4, 86)]"
      ]
     },
     "execution_count": 12,
     "metadata": {},
     "output_type": "execute_result"
    }
   ],
   "source": [
    "grp_users_rdd.take(5)"
   ]
  },
  {
   "cell_type": "markdown",
   "metadata": {},
   "source": [
    "(3) Print the post count using the `print_post_count` function we provided.\n",
    "\n",
    "It should print\n",
    "\n",
    "```\n",
    "Group 0 posted 81 tweets\n",
    "Group 1 posted 199 tweets\n",
    "Group 2 posted 45 tweets\n",
    "Group 3 posted 313 tweets\n",
    "Group 4 posted 86 tweets\n",
    "Group 5 posted 221 tweets\n",
    "Group 6 posted 400 tweets\n",
    "Group 7 posted 798 tweets\n",
    "```"
   ]
  },
  {
   "cell_type": "code",
   "execution_count": 13,
   "metadata": {
    "collapsed": true
   },
   "outputs": [],
   "source": [
    "def print_post_count(counts):\n",
    "    for group_id, count in counts:\n",
    "        print 'Group %d posted %d tweets' % (group_id, count)"
   ]
  },
  {
   "cell_type": "code",
   "execution_count": 14,
   "metadata": {
    "collapsed": false
   },
   "outputs": [
    {
     "name": "stdout",
     "output_type": "stream",
     "text": [
      "Group 0 posted 81 tweets\n",
      "Group 1 posted 199 tweets\n",
      "Group 2 posted 45 tweets\n",
      "Group 3 posted 313 tweets\n",
      "Group 4 posted 86 tweets\n",
      "Group 5 posted 221 tweets\n",
      "Group 6 posted 400 tweets\n",
      "Group 7 posted 798 tweets\n"
     ]
    }
   ],
   "source": [
    "# your code here\n",
    "count_of_grp_users = grp_users_rdd.collect()\n",
    "print_post_count(count_of_grp_users)"
   ]
  },
  {
   "cell_type": "markdown",
   "metadata": {
    "collapsed": true
   },
   "source": [
    "# Part 3:  Tokens that are relatively popular in each user partition"
   ]
  },
  {
   "cell_type": "markdown",
   "metadata": {
    "collapsed": true
   },
   "source": [
    "In this step, we are going to find tokens that are relatively popular in each user partition.\n",
    "\n",
    "We define the number of mentions of a token $t$ in a specific user partition $k$ as the number of users from the user partition $k$ that ever mentioned the token $t$ in their tweets. Note that even if some users might mention a token $t$ multiple times or in multiple tweets, a user will contribute at most 1 to the counter of the token $t$.\n",
    "\n",
    "Please make sure that the number of mentions of a token is equal to the number of users who mentioned this token but NOT the number of tweets that mentioned this token.\n",
    "\n",
    "Let $N_t^k$ be the number of mentions of the token $t$ in the user partition $k$. Let $N_t^{all} = \\sum_{i=0}^7 N_t^{i}$ be the number of total mentions of the token $t$.\n",
    "\n",
    "We define the relative popularity of a token $t$ in a user partition $k$ as the log ratio between $N_t^k$ and $N_t^{all}$, i.e. \n",
    "\n",
    "\\begin{equation}\n",
    "p_t^k = \\log \\frac{C_t^k}{C_t^{all}}.\n",
    "\\end{equation}\n",
    "\n",
    "\n",
    "You can compute the relative popularity by calling the function `get_rel_popularity`."
   ]
  },
  {
   "cell_type": "markdown",
   "metadata": {},
   "source": [
    "(0) Load the tweet tokenizer."
   ]
  },
  {
   "cell_type": "code",
   "execution_count": 15,
   "metadata": {
    "collapsed": true
   },
   "outputs": [],
   "source": [
    "# %load happyfuntokenizing.py\n",
    "#!/usr/bin/env python\n",
    "\n",
    "\"\"\"\n",
    "This code implements a basic, Twitter-aware tokenizer.\n",
    "\n",
    "A tokenizer is a function that splits a string of text into words. In\n",
    "Python terms, we map string and unicode objects into lists of unicode\n",
    "objects.\n",
    "\n",
    "There is not a single right way to do tokenizing. The best method\n",
    "depends on the application.  This tokenizer is designed to be flexible\n",
    "and this easy to adapt to new domains and tasks.  The basic logic is\n",
    "this:\n",
    "\n",
    "1. The tuple regex_strings defines a list of regular expression\n",
    "   strings.\n",
    "\n",
    "2. The regex_strings strings are put, in order, into a compiled\n",
    "   regular expression object called word_re.\n",
    "\n",
    "3. The tokenization is done by word_re.findall(s), where s is the\n",
    "   user-supplied string, inside the tokenize() method of the class\n",
    "   Tokenizer.\n",
    "\n",
    "4. When instantiating Tokenizer objects, there is a single option:\n",
    "   preserve_case.  By default, it is set to True. If it is set to\n",
    "   False, then the tokenizer will downcase everything except for\n",
    "   emoticons.\n",
    "\n",
    "The __main__ method illustrates by tokenizing a few examples.\n",
    "\n",
    "I've also included a Tokenizer method tokenize_random_tweet(). If the\n",
    "twitter library is installed (http://code.google.com/p/python-twitter/)\n",
    "and Twitter is cooperating, then it should tokenize a random\n",
    "English-language tweet.\n",
    "\n",
    "\n",
    "Julaiti Alafate:\n",
    "  I modified the regex strings to extract URLs in tweets.\n",
    "\"\"\"\n",
    "\n",
    "__author__ = \"Christopher Potts\"\n",
    "__copyright__ = \"Copyright 2011, Christopher Potts\"\n",
    "__credits__ = []\n",
    "__license__ = \"Creative Commons Attribution-NonCommercial-ShareAlike 3.0 Unported License: http://creativecommons.org/licenses/by-nc-sa/3.0/\"\n",
    "__version__ = \"1.0\"\n",
    "__maintainer__ = \"Christopher Potts\"\n",
    "__email__ = \"See the author's website\"\n",
    "\n",
    "######################################################################\n",
    "\n",
    "import re\n",
    "import htmlentitydefs\n",
    "\n",
    "######################################################################\n",
    "# The following strings are components in the regular expression\n",
    "# that is used for tokenizing. It's important that phone_number\n",
    "# appears first in the final regex (since it can contain whitespace).\n",
    "# It also could matter that tags comes after emoticons, due to the\n",
    "# possibility of having text like\n",
    "#\n",
    "#     <:| and some text >:)\n",
    "#\n",
    "# Most imporatantly, the final element should always be last, since it\n",
    "# does a last ditch whitespace-based tokenization of whatever is left.\n",
    "\n",
    "# This particular element is used in a couple ways, so we define it\n",
    "# with a name:\n",
    "emoticon_string = r\"\"\"\n",
    "    (?:\n",
    "      [<>]?\n",
    "      [:;=8]                     # eyes\n",
    "      [\\-o\\*\\']?                 # optional nose\n",
    "      [\\)\\]\\(\\[dDpP/\\:\\}\\{@\\|\\\\] # mouth      \n",
    "      |\n",
    "      [\\)\\]\\(\\[dDpP/\\:\\}\\{@\\|\\\\] # mouth\n",
    "      [\\-o\\*\\']?                 # optional nose\n",
    "      [:;=8]                     # eyes\n",
    "      [<>]?\n",
    "    )\"\"\"\n",
    "\n",
    "# The components of the tokenizer:\n",
    "regex_strings = (\n",
    "    # Phone numbers:\n",
    "    r\"\"\"\n",
    "    (?:\n",
    "      (?:            # (international)\n",
    "        \\+?[01]\n",
    "        [\\-\\s.]*\n",
    "      )?            \n",
    "      (?:            # (area code)\n",
    "        [\\(]?\n",
    "        \\d{3}\n",
    "        [\\-\\s.\\)]*\n",
    "      )?    \n",
    "      \\d{3}          # exchange\n",
    "      [\\-\\s.]*   \n",
    "      \\d{4}          # base\n",
    "    )\"\"\"\n",
    "    ,\n",
    "    # URLs:\n",
    "    r\"\"\"http[s]?://(?:[a-zA-Z]|[0-9]|[$-_@.&+]|[!*\\(\\),]|(?:%[0-9a-fA-F][0-9a-fA-F]))+\"\"\"\n",
    "    ,\n",
    "    # Emoticons:\n",
    "    emoticon_string\n",
    "    ,    \n",
    "    # HTML tags:\n",
    "     r\"\"\"<[^>]+>\"\"\"\n",
    "    ,\n",
    "    # Twitter username:\n",
    "    r\"\"\"(?:@[\\w_]+)\"\"\"\n",
    "    ,\n",
    "    # Twitter hashtags:\n",
    "    r\"\"\"(?:\\#+[\\w_]+[\\w\\'_\\-]*[\\w_]+)\"\"\"\n",
    "    ,\n",
    "    # Remaining word types:\n",
    "    r\"\"\"\n",
    "    (?:[a-z][a-z'\\-_]+[a-z])       # Words with apostrophes or dashes.\n",
    "    |\n",
    "    (?:[+\\-]?\\d+[,/.:-]\\d+[+\\-]?)  # Numbers, including fractions, decimals.\n",
    "    |\n",
    "    (?:[\\w_]+)                     # Words without apostrophes or dashes.\n",
    "    |\n",
    "    (?:\\.(?:\\s*\\.){1,})            # Ellipsis dots. \n",
    "    |\n",
    "    (?:\\S)                         # Everything else that isn't whitespace.\n",
    "    \"\"\"\n",
    "    )\n",
    "\n",
    "######################################################################\n",
    "# This is the core tokenizing regex:\n",
    "    \n",
    "word_re = re.compile(r\"\"\"(%s)\"\"\" % \"|\".join(regex_strings), re.VERBOSE | re.I | re.UNICODE)\n",
    "\n",
    "# The emoticon string gets its own regex so that we can preserve case for them as needed:\n",
    "emoticon_re = re.compile(regex_strings[1], re.VERBOSE | re.I | re.UNICODE)\n",
    "\n",
    "# These are for regularizing HTML entities to Unicode:\n",
    "html_entity_digit_re = re.compile(r\"&#\\d+;\")\n",
    "html_entity_alpha_re = re.compile(r\"&\\w+;\")\n",
    "amp = \"&amp;\"\n",
    "\n",
    "######################################################################\n",
    "\n",
    "class Tokenizer:\n",
    "    def __init__(self, preserve_case=False):\n",
    "        self.preserve_case = preserve_case\n",
    "\n",
    "    def tokenize(self, s):\n",
    "        \"\"\"\n",
    "        Argument: s -- any string or unicode object\n",
    "        Value: a tokenize list of strings; conatenating this list returns the original string if preserve_case=False\n",
    "        \"\"\"        \n",
    "        # Try to ensure unicode:\n",
    "        try:\n",
    "            s = unicode(s)\n",
    "        except UnicodeDecodeError:\n",
    "            s = str(s).encode('string_escape')\n",
    "            s = unicode(s)\n",
    "        # Fix HTML character entitites:\n",
    "        s = self.__html2unicode(s)\n",
    "        # Tokenize:\n",
    "        words = word_re.findall(s)\n",
    "        # Possible alter the case, but avoid changing emoticons like :D into :d:\n",
    "        if not self.preserve_case:            \n",
    "            words = map((lambda x : x if emoticon_re.search(x) else x.lower()), words)\n",
    "        return words\n",
    "\n",
    "    def tokenize_random_tweet(self):\n",
    "        \"\"\"\n",
    "        If the twitter library is installed and a twitter connection\n",
    "        can be established, then tokenize a random tweet.\n",
    "        \"\"\"\n",
    "        try:\n",
    "            import twitter\n",
    "        except ImportError:\n",
    "            print \"Apologies. The random tweet functionality requires the Python twitter library: http://code.google.com/p/python-twitter/\"\n",
    "        from random import shuffle\n",
    "        api = twitter.Api()\n",
    "        tweets = api.GetPublicTimeline()\n",
    "        if tweets:\n",
    "            for tweet in tweets:\n",
    "                if tweet.user.lang == 'en':            \n",
    "                    return self.tokenize(tweet.text)\n",
    "        else:\n",
    "            raise Exception(\"Apologies. I couldn't get Twitter to give me a public English-language tweet. Perhaps try again\")\n",
    "\n",
    "    def __html2unicode(self, s):\n",
    "        \"\"\"\n",
    "        Internal metod that seeks to replace all the HTML entities in\n",
    "        s with their corresponding unicode characters.\n",
    "        \"\"\"\n",
    "        # First the digits:\n",
    "        ents = set(html_entity_digit_re.findall(s))\n",
    "        if len(ents) > 0:\n",
    "            for ent in ents:\n",
    "                entnum = ent[2:-1]\n",
    "                try:\n",
    "                    entnum = int(entnum)\n",
    "                    s = s.replace(ent, unichr(entnum))\t\n",
    "                except:\n",
    "                    pass\n",
    "        # Now the alpha versions:\n",
    "        ents = set(html_entity_alpha_re.findall(s))\n",
    "        ents = filter((lambda x : x != amp), ents)\n",
    "        for ent in ents:\n",
    "            entname = ent[1:-1]\n",
    "            try:            \n",
    "                s = s.replace(ent, unichr(htmlentitydefs.name2codepoint[entname]))\n",
    "            except:\n",
    "                pass                    \n",
    "            s = s.replace(amp, \" and \")\n",
    "        return s"
   ]
  },
  {
   "cell_type": "code",
   "execution_count": 16,
   "metadata": {
    "collapsed": false
   },
   "outputs": [],
   "source": [
    "from math import log\n",
    "\n",
    "tok = Tokenizer(preserve_case=False)\n",
    "\n",
    "def get_rel_popularity(c_k, c_all):\n",
    "    return log(1.0 * c_k / c_all) / log(2)\n",
    "\n",
    "\n",
    "def print_tokens(tokens, gid = None):\n",
    "    group_name = \"overall\"\n",
    "    if gid is not None:\n",
    "        group_name = \"group %d\" % gid\n",
    "    print '=' * 5 + ' ' + group_name + ' ' + '=' * 5\n",
    "    for t, n in tokens:\n",
    "        print \"%s\\t%.4f\" % (t, n)\n",
    "    print"
   ]
  },
  {
   "cell_type": "markdown",
   "metadata": {},
   "source": [
    "(1) Tokenize the tweets using the tokenizer we provided above named `tok`. Count the number of mentions for each tokens regardless of specific user group.\n",
    "\n",
    "Call `print_count` function to show how many different tokens we have.\n",
    "\n",
    "It should print\n",
    "```\n",
    "Number of elements: 8949\n",
    "```\n"
   ]
  },
  {
   "cell_type": "code",
   "execution_count": 17,
   "metadata": {
    "collapsed": false
   },
   "outputs": [
    {
     "name": "stdout",
     "output_type": "stream",
     "text": [
      "[(u'2914597730', u'@')]\n",
      "[(u'2914597730', u\"@DemDefender @BernieSanders @LordAlmighty12  @HillaryClinton what's Your all not getting it. All politicians are corrupt even the good ones!\")]\n"
     ]
    }
   ],
   "source": [
    "print new_data.flatMapValues(lambda x : (x[0],tok.tokenize(x[1]))).take(1)\n",
    "print new_data.take(1)"
   ]
  },
  {
   "cell_type": "code",
   "execution_count": 201,
   "metadata": {
    "collapsed": false
   },
   "outputs": [
    {
     "data": {
      "text/plain": [
       "[(u'1244123617', u'#ccot'),\n",
       " (u'3126208069', u'trump'),\n",
       " (u'4496896937', u'up'),\n",
       " (u'24721390', u'this'),\n",
       " (u'219975205', u'https://t.co/66B507JJdT')]"
      ]
     },
     "execution_count": 201,
     "metadata": {},
     "output_type": "execute_result"
    }
   ],
   "source": [
    "tokenUsersRDD.take(5)"
   ]
  },
  {
   "cell_type": "code",
   "execution_count": 32,
   "metadata": {
    "collapsed": false
   },
   "outputs": [
    {
     "name": "stdout",
     "output_type": "stream",
     "text": [
      "Number of elements: 8949\n"
     ]
    }
   ],
   "source": [
    "# your code here\n",
    "tokensUsersRDD = new_data.map(lambda x : (x[0],tok.tokenize(x[1])))\\\n",
    "                    .reduceByKey(lambda x,y : x+y)\\\n",
    "                    .map(lambda x : (x[0],list(set(x[1]))))\n",
    "        \n",
    "tokenUsersRDD = new_data.flatMapValues(lambda x : tok.tokenize(x)).distinct()\n",
    "\n",
    "tokensRDD = tokenUsersRDD.map(lambda x:x[1])\n",
    "                        \n",
    "print_count(tokensRDD.distinct())"
   ]
  },
  {
   "cell_type": "code",
   "execution_count": 33,
   "metadata": {
    "collapsed": false
   },
   "outputs": [
    {
     "data": {
      "text/plain": [
       "[u'#ccot']"
      ]
     },
     "execution_count": 33,
     "metadata": {},
     "output_type": "execute_result"
    }
   ],
   "source": [
    "tokensRDD.take(1)"
   ]
  },
  {
   "cell_type": "code",
   "execution_count": 36,
   "metadata": {
    "collapsed": false
   },
   "outputs": [
    {
     "data": {
      "text/plain": [
       "[(u'152795399', u'#medic')]"
      ]
     },
     "execution_count": 36,
     "metadata": {},
     "output_type": "execute_result"
    }
   ],
   "source": [
    "tfm = tokensUsersRDD.flatMapValues(lambda x:x).distinct()\n",
    "\n",
    "tfm.take(1)\n"
   ]
  },
  {
   "cell_type": "markdown",
   "metadata": {},
   "source": [
    "(2) Tokens that are mentioned by too few users are usually not very interesting. So we want to only keep tokens that are mentioned by at least 100 users. Please filter out tokens that don't meet this requirement.\n",
    "\n",
    "Call `print_count` function to show how many different tokens we have after the filtering.\n",
    "\n",
    "Call `print_tokens` function to show top 20 most frequent tokens.\n",
    "\n",
    "It should print\n",
    "```\n",
    "Number of elements: 44\n",
    "===== overall =====\n",
    ":\t1388.0000\n",
    "rt\t1237.0000\n",
    ".\t826.0000\n",
    "…\t673.0000\n",
    "the\t623.0000\n",
    "trump\t582.0000\n",
    "to\t499.0000\n",
    ",\t489.0000\n",
    "a\t404.0000\n",
    "is\t376.0000\n",
    "in\t297.0000\n",
    "of\t292.0000\n",
    "and\t288.0000\n",
    "for\t281.0000\n",
    "!\t269.0000\n",
    "?\t210.0000\n",
    "on\t195.0000\n",
    "i\t192.0000\n",
    "you\t191.0000\n",
    "this\t190.0000\n",
    "```"
   ]
  },
  {
   "cell_type": "code",
   "execution_count": 37,
   "metadata": {
    "collapsed": false
   },
   "outputs": [
    {
     "name": "stdout",
     "output_type": "stream",
     "text": [
      "CPU times: user 0 ns, sys: 0 ns, total: 0 ns\n",
      "Wall time: 28.8 µs\n"
     ]
    }
   ],
   "source": [
    "%%time\n",
    "# your code here\n",
    "\"\"\"\n",
    "tokensUsersRDD1 = tokensUsersRDD.flatMap(lambda x : [(each,1.0) for each in x[1]])\n",
    "commonTokensRDD = tokensUsersRDD1.reduceByKey(lambda x,y : x+y)\\\n",
    "                  .map(lambda (x,y) : (y,x))\\\n",
    "                  .filter(lambda x : x[0]>=100)\\\n",
    "                  .sortByKey(False)\\\n",
    "                  .map(lambda (x,y) :(y,x))\n",
    "\"\"\"\n",
    "\n",
    "tokenUsersRDD1 = tfm.map(lambda x :(x,1))\n",
    "\n",
    "\"\"\"\n",
    "commonTokensRDD = tokensUsersRDD1.reduceByKey(lambda x,y : x+y)\\\n",
    "                  .map(lambda (x,y) : (y,x))\\\n",
    "                  .filter(lambda x : x[0]>=100)\\\n",
    "                  .sortByKey(False)\\\n",
    "                  .map(lambda (x,y) :(y,x))\n",
    "                   \n",
    "print_tokens(commonTokensRDD.take(20))\n",
    "commonTokens = commonTokensRDD.collectAsMap()\n",
    "\n",
    "#commonTokensRDD1 = commonTokensRDD.map(lambda x : x[0])\n",
    "print commonTokens\n",
    "\"\"\"\n",
    "\n"
   ]
  },
  {
   "cell_type": "code",
   "execution_count": 38,
   "metadata": {
    "collapsed": false
   },
   "outputs": [
    {
     "data": {
      "text/plain": [
       "[(u'1244123617', u'#ccot')]"
      ]
     },
     "execution_count": 38,
     "metadata": {},
     "output_type": "execute_result"
    }
   ],
   "source": [
    "tokenUsersRDD.take(1)"
   ]
  },
  {
   "cell_type": "code",
   "execution_count": 179,
   "metadata": {
    "collapsed": false
   },
   "outputs": [
    {
     "data": {
      "text/plain": [
       "[(u'2725924351',\n",
       "  [u'people',\n",
       "   u'is',\n",
       "   u'rt',\n",
       "   u'from',\n",
       "   u'https://t.co/',\n",
       "   u'how',\n",
       "   u'.',\n",
       "   u'to',\n",
       "   u'other',\n",
       "   u'@jaredwyand',\n",
       "   u':',\n",
       "   u'run',\n",
       "   u'watching',\n",
       "   u'#demdebate',\n",
       "   u'why',\n",
       "   u'about',\n",
       "   u'like',\n",
       "   u'countries',\n",
       "   u'this',\n",
       "   u'maybe',\n",
       "   u'\\u2026',\n",
       "   u's',\n",
       "   u'u',\n",
       "   u'the',\n",
       "   u'talk'])]"
      ]
     },
     "execution_count": 179,
     "metadata": {},
     "output_type": "execute_result"
    }
   ],
   "source": [
    "tokensUsersRDD.take(1)"
   ]
  },
  {
   "cell_type": "code",
   "execution_count": 180,
   "metadata": {
    "collapsed": false
   },
   "outputs": [],
   "source": [
    "tokensUsersRDD.flatMapValues(lambda x: x).take(1)\n",
    "\n",
    "def gid_subs(x):\n",
    "    user_id = x[0]\n",
    "    if user_id in partition:\n",
    "        gid = partition[user_id]\n",
    "    else:\n",
    "        gid = 7\n",
    "    return(gid,x[1])\n",
    "\n"
   ]
  },
  {
   "cell_type": "code",
   "execution_count": 181,
   "metadata": {
    "collapsed": false
   },
   "outputs": [
    {
     "name": "stdout",
     "output_type": "stream",
     "text": [
      "CPU times: user 0 ns, sys: 0 ns, total: 0 ns\n",
      "Wall time: 4.05 µs\n"
     ]
    }
   ],
   "source": [
    "##### print tokensUsersRDD.take(1)\n",
    "#print par_rdd.take(1)\n",
    "% time\n",
    "\"\"\"\n",
    "tokensUsersRDD_fil = tokensUsersRDD.mapValues(lambda (y) : ([el for el in y if el in commonTokens]))\\\n",
    "                                   .leftOuterJoin(gid_users)\\\n",
    "                                    .map(lambda (x,y) : (y[1],y[0]))\\\n",
    "                                    .flatMapValues(lambda x : x)\\\n",
    "                                    .map(lambda (x,y) : (y,x))\n",
    "                                    \n",
    "\"\"\"                                    \n",
    " \n",
    "\n",
    "#tokenUsersRDD_fil = tokensUsersRDD.flatMapValues(lambda x: x).distinct()\\\n",
    "#                .map(gid_subs)\n",
    "\n",
    "tokenUsersRDD_fil = tfm.map(gid_subs)\n",
    "    "
   ]
  },
  {
   "cell_type": "code",
   "execution_count": 182,
   "metadata": {
    "collapsed": false
   },
   "outputs": [
    {
     "data": {
      "text/plain": [
       "[(u'152795399', u'#medic')]"
      ]
     },
     "execution_count": 182,
     "metadata": {},
     "output_type": "execute_result"
    }
   ],
   "source": [
    "tfm.take(1)"
   ]
  },
  {
   "cell_type": "code",
   "execution_count": 183,
   "metadata": {
    "collapsed": false
   },
   "outputs": [
    {
     "data": {
      "text/plain": [
       "[(u'is', 6), (u'rt', 6), (u'.', 6), (u'to', 6), (u':', 6)]"
      ]
     },
     "execution_count": 183,
     "metadata": {},
     "output_type": "execute_result"
    }
   ],
   "source": [
    "tokensUsersRDD_fil.take(5)"
   ]
  },
  {
   "cell_type": "code",
   "execution_count": 184,
   "metadata": {
    "collapsed": false
   },
   "outputs": [
    {
     "name": "stdout",
     "output_type": "stream",
     "text": [
      "CPU times: user 0 ns, sys: 0 ns, total: 0 ns\n",
      "Wall time: 5.96 µs\n"
     ]
    }
   ],
   "source": [
    "%time\n",
    "tokensUsersRDD_fil1 = tokensUsersRDD_fil.map(lambda x :(x,1))\\\n",
    "                      .reduceByKey(lambda x,y : x+y)\\\n",
    "                      .map(lambda (x,y): (x[1],(x[0],y)))\n",
    "    \n",
    "def calcRelFreq(s):\n",
    "    word = s[0]\n",
    "    c_k = s[1]\n",
    "    c_all = commonTokens[word]\n",
    "    return (word,get_rel_popularity(c_k,c_all))\n",
    "    \n",
    "relative_freq_RDD = tokensUsersRDD_fil1.mapValues(calcRelFreq).groupByKey().mapValues(lambda x:[a for a in x])\\\n",
    "                    .mapValues(lambda k :sorted(k,key= lambda y:(-y[1],y[0])))\\\n",
    "                    .collectAsMap()  \n",
    "\n",
    "\n",
    "\n",
    "\n",
    "\n"
   ]
  },
  {
   "cell_type": "code",
   "execution_count": 185,
   "metadata": {
    "collapsed": false
   },
   "outputs": [
    {
     "data": {
      "text/plain": [
       "[(0, (u'donald', 6)),\n",
       " (0, (u';', 3)),\n",
       " (0, (u'?', 6)),\n",
       " (0, (u'cruz', 5)),\n",
       " (0, (u'for', 7)),\n",
       " (0, (u'https', 7)),\n",
       " (0, (u'you', 4)),\n",
       " (0, (u'the', 24)),\n",
       " (0, (u'is', 13)),\n",
       " (0, (u'hillary', 11)),\n",
       " (0, (u'#demdebate', 6)),\n",
       " (0, (u'if', 3)),\n",
       " (0, (u'in', 15)),\n",
       " (0, (u'that', 4)),\n",
       " (0, (u'.', 30)),\n",
       " (0, (u'he', 7)),\n",
       " (0, (u':', 54)),\n",
       " (0, (u'\\u2026', 21)),\n",
       " (0, (u'\"', 6)),\n",
       " (0, (u'&', 3)),\n",
       " (0, (u'bernie', 9)),\n",
       " (0, (u'@realdonaldtrump', 6)),\n",
       " (0, (u'!', 9)),\n",
       " (0, (u'will', 3)),\n",
       " (0, (u'clinton', 8)),\n",
       " (0, (u'this', 4)),\n",
       " (0, (u'i', 11)),\n",
       " (0, (u'-', 2)),\n",
       " (0, (u'rt', 42)),\n",
       " (0, (u'and', 10)),\n",
       " (0, (u'a', 15)),\n",
       " (0, (u'not', 8)),\n",
       " (0, (u'sanders', 4)),\n",
       " (0, (u'to', 14)),\n",
       " (0, (u'be', 1)),\n",
       " (0, (u'trump', 25)),\n",
       " (0, (u'amp', 3)),\n",
       " (0, (u'of', 9)),\n",
       " (0, (u'...', 12)),\n",
       " (0, (u'are', 5)),\n",
       " (0, (u',', 22)),\n",
       " (0, (u'at', 9)),\n",
       " (0, (u'on', 9)),\n",
       " (0, (u'it', 3)),\n",
       " (1, (u'amp', 23)),\n",
       " (1, (u'of', 24)),\n",
       " (1, (u'...', 6)),\n",
       " (1, (u'trump', 39)),\n",
       " (1, (u'are', 7)),\n",
       " (1, (u',', 53)),\n",
       " (1, (u'on', 21)),\n",
       " (1, (u'it', 12)),\n",
       " (1, (u'sanders', 23)),\n",
       " (1, (u'to', 47)),\n",
       " (1, (u'at', 12)),\n",
       " (1, (u'be', 13)),\n",
       " (1, (u'!', 14)),\n",
       " (1, (u'a', 40)),\n",
       " (1, (u'rt', 131)),\n",
       " (1, (u'not', 18)),\n",
       " (1, (u'@realdonaldtrump', 3)),\n",
       " (1, (u'and', 19)),\n",
       " (1, (u'this', 17)),\n",
       " (1, (u'i', 13)),\n",
       " (1, (u'-', 27)),\n",
       " (1, (u'clinton', 26)),\n",
       " (1, (u'will', 13)),\n",
       " (1, (u'that', 12)),\n",
       " (1, (u'.', 85)),\n",
       " (1, (u':', 141)),\n",
       " (1, (u'\"', 16)),\n",
       " (1, (u'he', 10)),\n",
       " (1, (u'\\u2026', 65)),\n",
       " (1, (u'if', 15)),\n",
       " (1, (u'bernie', 20)),\n",
       " (1, (u'in', 40)),\n",
       " (1, (u'&', 23)),\n",
       " (1, (u'you', 15)),\n",
       " (1, (u'hillary', 19)),\n",
       " (1, (u'the', 56)),\n",
       " (1, (u'is', 42)),\n",
       " (1, (u'#demdebate', 29)),\n",
       " (1, (u'donald', 6)),\n",
       " (1, (u';', 24)),\n",
       " (1, (u'cruz', 9)),\n",
       " (1, (u'?', 30)),\n",
       " (1, (u'for', 35)),\n",
       " (1, (u'https', 15)),\n",
       " (2, (u'i', 3)),\n",
       " (2, (u'-', 1)),\n",
       " (2, (u'clinton', 2)),\n",
       " (2, (u'!', 4)),\n",
       " (2, (u'this', 6)),\n",
       " (2, (u'will', 2)),\n",
       " (2, (u'rt', 23)),\n",
       " (2, (u'a', 15)),\n",
       " (2, (u'and', 11)),\n",
       " (2, (u'are', 4)),\n",
       " (2, (u'at', 4)),\n",
       " (2, (u',', 5)),\n",
       " (2, (u'trump', 13)),\n",
       " (2, (u'on', 5)),\n",
       " (2, (u'it', 1)),\n",
       " (2, (u'to', 13)),\n",
       " (2, (u'sanders', 5)),\n",
       " (2, (u'be', 2)),\n",
       " (2, (u'amp', 2)),\n",
       " (2, (u'of', 8)),\n",
       " (2, (u'...', 4)),\n",
       " (2, (u'is', 6)),\n",
       " (2, (u'hillary', 1)),\n",
       " (2, (u'the', 13)),\n",
       " (2, (u'donald', 5)),\n",
       " (2, (u';', 4)),\n",
       " (2, (u'cruz', 3)),\n",
       " (2, (u'?', 6)),\n",
       " (2, (u'you', 5)),\n",
       " (2, (u'for', 7)),\n",
       " (2, (u'https', 2)),\n",
       " (2, (u'#demdebate', 4)),\n",
       " (2, (u'.', 19)),\n",
       " (2, (u'he', 3)),\n",
       " (2, (u'\"', 4)),\n",
       " (2, (u'\\u2026', 14)),\n",
       " (2, (u'&', 2)),\n",
       " (2, (u'if', 2)),\n",
       " (2, (u':', 31)),\n",
       " (2, (u'bernie', 6)),\n",
       " (2, (u'that', 4)),\n",
       " (2, (u'in', 10)),\n",
       " (3, (u'if', 11)),\n",
       " (3, (u'\\u2026', 131)),\n",
       " (3, (u'.', 147)),\n",
       " (3, (u'&', 22)),\n",
       " (3, (u'in', 50)),\n",
       " (3, (u'that', 28)),\n",
       " (3, (u'bernie', 46)),\n",
       " (3, (u':', 228)),\n",
       " (3, (u'\"', 24)),\n",
       " (3, (u'he', 14)),\n",
       " (3, (u'cruz', 3)),\n",
       " (3, (u'?', 34)),\n",
       " (3, (u'for', 43)),\n",
       " (3, (u'https', 26)),\n",
       " (3, (u'you', 28)),\n",
       " (3, (u'hillary', 36)),\n",
       " (3, (u'the', 121)),\n",
       " (3, (u'is', 62)),\n",
       " (3, (u'#demdebate', 58)),\n",
       " (3, (u'donald', 10)),\n",
       " (3, (u';', 24)),\n",
       " (3, (u'to', 75)),\n",
       " (3, (u'sanders', 35)),\n",
       " (3, (u'at', 19)),\n",
       " (3, (u'be', 21)),\n",
       " (3, (u'amp', 22)),\n",
       " (3, (u'it', 24)),\n",
       " (3, (u'of', 63)),\n",
       " (3, (u'...', 11)),\n",
       " (3, (u'are', 16)),\n",
       " (3, (u'on', 28)),\n",
       " (3, (u',', 75)),\n",
       " (3, (u'trump', 36)),\n",
       " (3, (u'!', 48)),\n",
       " (3, (u'rt', 219)),\n",
       " (3, (u'this', 21)),\n",
       " (3, (u'and', 44)),\n",
       " (3, (u'i', 32)),\n",
       " (3, (u'-', 20)),\n",
       " (3, (u'will', 16)),\n",
       " (3, (u'a', 59)),\n",
       " (3, (u'not', 22)),\n",
       " (3, (u'clinton', 32)),\n",
       " (3, (u'@realdonaldtrump', 5)),\n",
       " (4, (u'#demdebate', 5)),\n",
       " (4, (u'cruz', 3)),\n",
       " (4, (u'you', 6)),\n",
       " (4, (u'?', 8)),\n",
       " (4, (u'the', 29)),\n",
       " (4, (u'is', 17)),\n",
       " (4, (u'hillary', 14)),\n",
       " (4, (u'for', 9)),\n",
       " (4, (u'https', 4)),\n",
       " (4, (u'donald', 4)),\n",
       " (4, (u';', 4)),\n",
       " (4, (u'in', 16)),\n",
       " (4, (u'.', 40)),\n",
       " (4, (u'that', 6)),\n",
       " (4, (u'he', 6)),\n",
       " (4, (u'\\u2026', 23)),\n",
       " (4, (u'bernie', 6)),\n",
       " (4, (u'&', 4)),\n",
       " (4, (u':', 45)),\n",
       " (4, (u'\"', 7)),\n",
       " (4, (u'if', 4)),\n",
       " (4, (u'a', 21)),\n",
       " (4, (u'and', 13)),\n",
       " (4, (u'not', 5)),\n",
       " (4, (u'-', 5)),\n",
       " (4, (u'clinton', 10)),\n",
       " (4, (u'!', 7)),\n",
       " (4, (u'this', 7)),\n",
       " (4, (u'i', 6)),\n",
       " (4, (u'@realdonaldtrump', 3)),\n",
       " (4, (u'will', 2)),\n",
       " (4, (u'rt', 39)),\n",
       " (4, (u'on', 10)),\n",
       " (4, (u'it', 4)),\n",
       " (4, (u'are', 2)),\n",
       " (4, (u'be', 2)),\n",
       " (4, (u',', 17)),\n",
       " (4, (u'sanders', 10)),\n",
       " (4, (u'amp', 4)),\n",
       " (4, (u'of', 18)),\n",
       " (4, (u'trump', 19)),\n",
       " (4, (u'...', 3)),\n",
       " (4, (u'at', 6)),\n",
       " (4, (u'to', 14)),\n",
       " (5, (u'are', 16)),\n",
       " (5, (u'to', 63)),\n",
       " (5, (u'be', 15)),\n",
       " (5, (u',', 57)),\n",
       " (5, (u'amp', 14)),\n",
       " (5, (u'of', 41)),\n",
       " (5, (u'...', 7)),\n",
       " (5, (u'at', 13)),\n",
       " (5, (u'it', 17)),\n",
       " (5, (u'on', 26)),\n",
       " (5, (u'trump', 78)),\n",
       " (5, (u'sanders', 5)),\n",
       " (5, (u'rt', 150)),\n",
       " (5, (u'a', 48)),\n",
       " (5, (u'!', 27)),\n",
       " (5, (u'not', 15)),\n",
       " (5, (u'@realdonaldtrump', 11)),\n",
       " (5, (u'-', 13)),\n",
       " (5, (u'clinton', 6)),\n",
       " (5, (u'and', 36)),\n",
       " (5, (u'this', 27)),\n",
       " (5, (u'will', 19)),\n",
       " (5, (u'i', 21)),\n",
       " (5, (u'if', 9)),\n",
       " (5, (u'&', 14)),\n",
       " (5, (u':', 156)),\n",
       " (5, (u'\\u2026', 83)),\n",
       " (5, (u'\"', 18)),\n",
       " (5, (u'in', 37)),\n",
       " (5, (u'he', 25)),\n",
       " (5, (u'that', 18)),\n",
       " (5, (u'.', 97)),\n",
       " (5, (u'bernie', 4)),\n",
       " (5, (u'https', 11)),\n",
       " (5, (u'donald', 11)),\n",
       " (5, (u';', 15)),\n",
       " (5, (u'#demdebate', 3)),\n",
       " (5, (u'cruz', 23)),\n",
       " (5, (u'the', 93)),\n",
       " (5, (u'?', 19)),\n",
       " (5, (u'you', 18)),\n",
       " (5, (u'hillary', 15)),\n",
       " (5, (u'is', 56)),\n",
       " (5, (u'for', 41)),\n",
       " (6, (u'rt', 281)),\n",
       " (6, (u'will', 32)),\n",
       " (6, (u'!', 101)),\n",
       " (6, (u'@realdonaldtrump', 70)),\n",
       " (6, (u'i', 35)),\n",
       " (6, (u'this', 48)),\n",
       " (6, (u'a', 74)),\n",
       " (6, (u'not', 47)),\n",
       " (6, (u'and', 60)),\n",
       " (6, (u'-', 30)),\n",
       " (6, (u'clinton', 20)),\n",
       " (6, (u'trump', 126)),\n",
       " (6, (u'amp', 33)),\n",
       " (6, (u'of', 59)),\n",
       " (6, (u'...', 24)),\n",
       " (6, (u'to', 118)),\n",
       " (6, (u'on', 46)),\n",
       " (6, (u'it', 36)),\n",
       " (6, (u'at', 15)),\n",
       " (6, (u'are', 22)),\n",
       " (6, (u'be', 26)),\n",
       " (6, (u',', 93)),\n",
       " (6, (u'is', 89)),\n",
       " (6, (u'for', 65)),\n",
       " (6, (u'https', 53)),\n",
       " (6, (u'donald', 21)),\n",
       " (6, (u'hillary', 28)),\n",
       " (6, (u';', 35)),\n",
       " (6, (u'#demdebate', 9)),\n",
       " (6, (u'cruz', 44)),\n",
       " (6, (u'you', 45)),\n",
       " (6, (u'the', 128)),\n",
       " (6, (u'?', 39)),\n",
       " (6, (u':', 293)),\n",
       " (6, (u'\\u2026', 191)),\n",
       " (6, (u'bernie', 5)),\n",
       " (6, (u'\"', 42)),\n",
       " (6, (u'if', 23)),\n",
       " (6, (u'in', 52)),\n",
       " (6, (u'he', 23)),\n",
       " (6, (u'that', 27)),\n",
       " (6, (u'.', 160)),\n",
       " (6, (u'&', 33)),\n",
       " (7, (u'&', 47)),\n",
       " (7, (u'\"', 64)),\n",
       " (7, (u'bernie', 71)),\n",
       " (7, (u'that', 37)),\n",
       " (7, (u'if', 43)),\n",
       " (7, (u'\\u2026', 180)),\n",
       " (7, (u'in', 91)),\n",
       " (7, (u'he', 55)),\n",
       " (7, (u'.', 279)),\n",
       " (7, (u':', 484)),\n",
       " (7, (u'hillary', 72)),\n",
       " (7, (u'you', 81)),\n",
       " (7, (u'the', 194)),\n",
       " (7, (u'?', 74)),\n",
       " (7, (u'is', 112)),\n",
       " (7, (u'for', 98)),\n",
       " (7, (u'https', 33)),\n",
       " (7, (u'donald', 107)),\n",
       " (7, (u';', 51)),\n",
       " (7, (u'#demdebate', 35)),\n",
       " (7, (u'cruz', 28)),\n",
       " (7, (u'it', 39)),\n",
       " (7, (u'on', 63)),\n",
       " (7, (u'to', 177)),\n",
       " (7, (u'trump', 270)),\n",
       " (7, (u'sanders', 77)),\n",
       " (7, (u'are', 34)),\n",
       " (7, (u'be', 42)),\n",
       " (7, (u',', 185)),\n",
       " (7, (u'amp', 47)),\n",
       " (7, (u'of', 83)),\n",
       " (7, (u'...', 83)),\n",
       " (7, (u'at', 35)),\n",
       " (7, (u'not', 46)),\n",
       " (7, (u'@realdonaldtrump', 51)),\n",
       " (7, (u'-', 71)),\n",
       " (7, (u'clinton', 72)),\n",
       " (7, (u'and', 105)),\n",
       " (7, (u'rt', 391)),\n",
       " (7, (u'will', 38)),\n",
       " (7, (u'i', 78)),\n",
       " (7, (u'!', 83)),\n",
       " (7, (u'this', 71)),\n",
       " (7, (u'a', 147))]"
      ]
     },
     "execution_count": 185,
     "metadata": {},
     "output_type": "execute_result"
    }
   ],
   "source": [
    "tokensUsersRDD_fil1.sortByKey().collect()"
   ]
  },
  {
   "cell_type": "code",
   "execution_count": 186,
   "metadata": {
    "collapsed": false
   },
   "outputs": [
    {
     "name": "stdout",
     "output_type": "stream",
     "text": [
      "===== group 0 =====\n",
      "...\t-3.5648\n",
      "at\t-3.5983\n",
      "hillary\t-4.0875\n",
      "i\t-4.1255\n",
      "bernie\t-4.1699\n",
      "not\t-4.2479\n",
      "https\t-4.2695\n",
      "he\t-4.2801\n",
      "in\t-4.3074\n",
      "are\t-4.3646\n",
      "\n",
      "===== group 1 =====\n",
      "#demdebate\t-2.2816\n",
      "&\t-2.6160\n",
      "amp\t-2.6160\n",
      "-\t-2.6202\n",
      ";\t-2.6724\n",
      "clinton\t-2.7004\n",
      "sanders\t-2.7526\n",
      "?\t-2.8074\n",
      "if\t-2.8074\n",
      "in\t-2.8924\n",
      "\n",
      "===== group 2 =====\n",
      "are\t-4.6865\n",
      "and\t-4.7105\n",
      "a\t-4.7513\n",
      "bernie\t-4.7549\n",
      "at\t-4.7682\n",
      "in\t-4.8924\n",
      "sanders\t-4.9542\n",
      "this\t-4.9849\n",
      "that\t-5.0224\n",
      "donald\t-5.0618\n",
      "\n",
      "===== group 3 =====\n",
      "#demdebate\t-1.2816\n",
      "bernie\t-1.8163\n",
      "sanders\t-2.1468\n",
      "of\t-2.2125\n",
      "that\t-2.2150\n",
      "…\t-2.3610\n",
      "the\t-2.3642\n",
      "https\t-2.3764\n",
      "hillary\t-2.3770\n",
      "clinton\t-2.4009\n",
      "\n",
      "===== group 4 =====\n",
      "hillary\t-3.7395\n",
      "sanders\t-3.9542\n",
      "of\t-4.0199\n",
      "clinton\t-4.0790\n",
      "at\t-4.1832\n",
      "in\t-4.2143\n",
      "a\t-4.2659\n",
      "on\t-4.2854\n",
      ".\t-4.3681\n",
      "the\t-4.4251\n",
      "\n",
      "===== group 5 =====\n",
      "cruz\t-2.3219\n",
      "he\t-2.4436\n",
      "will\t-2.6224\n",
      "are\t-2.6865\n",
      "the\t-2.7439\n",
      "is\t-2.7472\n",
      "for\t-2.7769\n",
      "this\t-2.8150\n",
      "of\t-2.8323\n",
      "that\t-2.8524\n",
      "\n",
      "===== group 6 =====\n",
      "@realdonaldtrump\t-1.0000\n",
      "https\t-1.3489\n",
      "cruz\t-1.3861\n",
      "!\t-1.4133\n",
      "not\t-1.6933\n",
      "…\t-1.8170\n",
      "it\t-1.8188\n",
      "will\t-1.8704\n",
      "this\t-1.9849\n",
      "\"\t-2.0000\n",
      "\n",
      "===== group 7 =====\n",
      "donald\t-0.6422\n",
      "...\t-0.7747\n",
      "sanders\t-1.0093\n",
      "trump\t-1.1081\n",
      "bernie\t-1.1901\n",
      "-\t-1.2253\n",
      "clinton\t-1.2310\n",
      "you\t-1.2376\n",
      "if\t-1.2880\n",
      "i\t-1.2996\n",
      "\n"
     ]
    }
   ],
   "source": [
    "for idx,item in enumerate(relative_freq_RDD):\n",
    "    print_tokens(relative_freq_RDD[idx][0:10],idx)"
   ]
  },
  {
   "cell_type": "markdown",
   "metadata": {},
   "source": [
    "\n",
    "\n",
    "(3) For all tokens that are mentioned by at least 100 users, compute their relative popularity in each user group. Then print the top 10 tokens with highest relative popularity in each user group. In case two tokens have same relative popularity, break the tie by printing the alphabetically smaller one.\n",
    "\n",
    "**Hint:** Let the relative popularity of a token $t$ be $p$. The order of the items will be satisfied by sorting them using (-p, t) as the key.\n",
    "\n",
    "It should print\n",
    "```\n",
    "===== group 0 =====\n",
    "...\t-3.5648\n",
    "at\t-3.5983\n",
    "hillary\t-4.0875\n",
    "i\t-4.1255\n",
    "bernie\t-4.1699\n",
    "not\t-4.2479\n",
    "https\t-4.2695\n",
    "he\t-4.2801\n",
    "in\t-4.3074\n",
    "are\t-4.3646\n",
    "\n",
    "===== group 1 =====\n",
    "#demdebate\t-2.4391\n",
    "-\t-2.6202\n",
    "&\t-2.7472\n",
    "amp\t-2.7472\n",
    "clinton\t-2.7570\n",
    ";\t-2.7980\n",
    "sanders\t-2.8838\n",
    "?\t-2.9069\n",
    "in\t-2.9664\n",
    "if\t-3.0138\n",
    "\n",
    "===== group 2 =====\n",
    "are\t-4.6865\n",
    "and\t-4.7105\n",
    "bernie\t-4.7549\n",
    "at\t-4.7682\n",
    "sanders\t-4.9542\n",
    "that\t-5.0224\n",
    "in\t-5.0444\n",
    "donald\t-5.0618\n",
    "a\t-5.0732\n",
    "#demdebate\t-5.1396\n",
    "\n",
    "===== group 3 =====\n",
    "#demdebate\t-1.3847\n",
    "bernie\t-1.8480\n",
    "sanders\t-2.1887\n",
    "of\t-2.2356\n",
    "that\t-2.3785\n",
    "the\t-2.4376\n",
    "…\t-2.4403\n",
    "clinton\t-2.4467\n",
    "hillary\t-2.4594\n",
    "be\t-2.5465\n",
    "\n",
    "===== group 4 =====\n",
    "hillary\t-3.7395\n",
    "sanders\t-3.9542\n",
    "of\t-4.0199\n",
    "clinton\t-4.0790\n",
    "at\t-4.1832\n",
    "in\t-4.2143\n",
    "a\t-4.2659\n",
    "on\t-4.2854\n",
    ".\t-4.3681\n",
    "the\t-4.4251\n",
    "\n",
    "===== group 5 =====\n",
    "cruz\t-2.3861\n",
    "he\t-2.6280\n",
    "are\t-2.7796\n",
    "will\t-2.7829\n",
    "the\t-2.8568\n",
    "is\t-2.8822\n",
    "for\t-2.9250\n",
    "that\t-2.9349\n",
    "of\t-2.9804\n",
    "this\t-2.9849\n",
    "\n",
    "===== group 6 =====\n",
    "@realdonaldtrump\t-1.1520\n",
    "cruz\t-1.4532\n",
    "https\t-1.5222\n",
    "!\t-1.5479\n",
    "not\t-1.8904\n",
    "…\t-1.9269\n",
    "will\t-2.0124\n",
    "it\t-2.0345\n",
    "this\t-2.1104\n",
    "to\t-2.1685\n",
    "\n",
    "===== group 7 =====\n",
    "donald\t-0.6422\n",
    "...\t-0.7922\n",
    "sanders\t-1.0282\n",
    "trump\t-1.1296\n",
    "bernie\t-1.2106\n",
    "-\t-1.2253\n",
    "you\t-1.2376\n",
    "clinton\t-1.2511\n",
    "if\t-1.2880\n",
    "i\t-1.2996\n",
    "```"
   ]
  },
  {
   "cell_type": "code",
   "execution_count": null,
   "metadata": {
    "collapsed": true
   },
   "outputs": [],
   "source": []
  },
  {
   "cell_type": "code",
   "execution_count": 47,
   "metadata": {
    "collapsed": false
   },
   "outputs": [],
   "source": [
    "# your code here\n"
   ]
  },
  {
   "cell_type": "markdown",
   "metadata": {
    "collapsed": true
   },
   "source": [
    "(4) (optional, not for grading) The users partition is generated by a machine learning algorithm that tries to group the users by their political preferences. Three of the user groups are showing supports to Bernie Sanders, Ted Cruz, and Donald Trump. \n",
    "\n",
    "If your program looks okay on the local test data, you can try it on the larger input by submitting your program to the homework server. Observe the output of your program to larger input files, can you guess the partition IDs of the three groups mentioned above based on your output?"
   ]
  },
  {
   "cell_type": "code",
   "execution_count": null,
   "metadata": {
    "collapsed": false
   },
   "outputs": [],
   "source": [
    "# Change the values of the following three items to your guesses\n",
    "users_support = [\n",
    "    (-1, \"Bernie Sanders\"),\n",
    "    (-1, \"Ted Cruz\"),\n",
    "    (-1, \"Donald Trump\")\n",
    "]\n",
    "\n",
    "for gid, candidate in users_support:\n",
    "    print \"Users from group %d are most likely to support %s.\" % (gid, candidate)"
   ]
  }
 ],
 "metadata": {
  "kernelspec": {
   "display_name": "Python 2",
   "language": "python",
   "name": "python2"
  },
  "language_info": {
   "codemirror_mode": {
    "name": "ipython",
    "version": 2
   },
   "file_extension": ".py",
   "mimetype": "text/x-python",
   "name": "python",
   "nbconvert_exporter": "python",
   "pygments_lexer": "ipython2",
   "version": "2.7.11"
  }
 },
 "nbformat": 4,
 "nbformat_minor": 0
}
